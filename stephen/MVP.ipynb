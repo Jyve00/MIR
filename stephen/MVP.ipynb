{
 "cells": [
  {
   "cell_type": "code",
   "execution_count": 15,
   "metadata": {},
   "outputs": [],
   "source": [
    "import numpy as np \n",
    "import pandas as pd\n",
    "import matplotlib.pyplot as plt\n",
    "import librosa\n"
   ]
  },
  {
   "cell_type": "code",
   "execution_count": 5,
   "metadata": {},
   "outputs": [
    {
     "name": "stdout",
     "output_type": "stream",
     "text": [
      "<class 'pandas.core.frame.DataFrame'>\n",
      "Index: 1000 entries, blues.00000.wav to rock.00099.wav\n",
      "Data columns (total 59 columns):\n",
      " #   Column                   Non-Null Count  Dtype  \n",
      "---  ------                   --------------  -----  \n",
      " 0   length                   1000 non-null   int64  \n",
      " 1   chroma_stft_mean         1000 non-null   float64\n",
      " 2   chroma_stft_var          1000 non-null   float64\n",
      " 3   rms_mean                 1000 non-null   float64\n",
      " 4   rms_var                  1000 non-null   float64\n",
      " 5   spectral_centroid_mean   1000 non-null   float64\n",
      " 6   spectral_centroid_var    1000 non-null   float64\n",
      " 7   spectral_bandwidth_mean  1000 non-null   float64\n",
      " 8   spectral_bandwidth_var   1000 non-null   float64\n",
      " 9   rolloff_mean             1000 non-null   float64\n",
      " 10  rolloff_var              1000 non-null   float64\n",
      " 11  zero_crossing_rate_mean  1000 non-null   float64\n",
      " 12  zero_crossing_rate_var   1000 non-null   float64\n",
      " 13  harmony_mean             1000 non-null   float64\n",
      " 14  harmony_var              1000 non-null   float64\n",
      " 15  perceptr_mean            1000 non-null   float64\n",
      " 16  perceptr_var             1000 non-null   float64\n",
      " 17  tempo                    1000 non-null   float64\n",
      " 18  mfcc1_mean               1000 non-null   float64\n",
      " 19  mfcc1_var                1000 non-null   float64\n",
      " 20  mfcc2_mean               1000 non-null   float64\n",
      " 21  mfcc2_var                1000 non-null   float64\n",
      " 22  mfcc3_mean               1000 non-null   float64\n",
      " 23  mfcc3_var                1000 non-null   float64\n",
      " 24  mfcc4_mean               1000 non-null   float64\n",
      " 25  mfcc4_var                1000 non-null   float64\n",
      " 26  mfcc5_mean               1000 non-null   float64\n",
      " 27  mfcc5_var                1000 non-null   float64\n",
      " 28  mfcc6_mean               1000 non-null   float64\n",
      " 29  mfcc6_var                1000 non-null   float64\n",
      " 30  mfcc7_mean               1000 non-null   float64\n",
      " 31  mfcc7_var                1000 non-null   float64\n",
      " 32  mfcc8_mean               1000 non-null   float64\n",
      " 33  mfcc8_var                1000 non-null   float64\n",
      " 34  mfcc9_mean               1000 non-null   float64\n",
      " 35  mfcc9_var                1000 non-null   float64\n",
      " 36  mfcc10_mean              1000 non-null   float64\n",
      " 37  mfcc10_var               1000 non-null   float64\n",
      " 38  mfcc11_mean              1000 non-null   float64\n",
      " 39  mfcc11_var               1000 non-null   float64\n",
      " 40  mfcc12_mean              1000 non-null   float64\n",
      " 41  mfcc12_var               1000 non-null   float64\n",
      " 42  mfcc13_mean              1000 non-null   float64\n",
      " 43  mfcc13_var               1000 non-null   float64\n",
      " 44  mfcc14_mean              1000 non-null   float64\n",
      " 45  mfcc14_var               1000 non-null   float64\n",
      " 46  mfcc15_mean              1000 non-null   float64\n",
      " 47  mfcc15_var               1000 non-null   float64\n",
      " 48  mfcc16_mean              1000 non-null   float64\n",
      " 49  mfcc16_var               1000 non-null   float64\n",
      " 50  mfcc17_mean              1000 non-null   float64\n",
      " 51  mfcc17_var               1000 non-null   float64\n",
      " 52  mfcc18_mean              1000 non-null   float64\n",
      " 53  mfcc18_var               1000 non-null   float64\n",
      " 54  mfcc19_mean              1000 non-null   float64\n",
      " 55  mfcc19_var               1000 non-null   float64\n",
      " 56  mfcc20_mean              1000 non-null   float64\n",
      " 57  mfcc20_var               1000 non-null   float64\n",
      " 58  label                    1000 non-null   object \n",
      "dtypes: float64(57), int64(1), object(1)\n",
      "memory usage: 468.8+ KB\n"
     ]
    }
   ],
   "source": [
    "df = pd.read_csv('/Users/stephen/Flatiron/Phase4/MIR/Data/features_30_sec.csv', index_col='filename')\n",
    "df.info()"
   ]
  },
  {
   "cell_type": "code",
   "execution_count": 4,
   "metadata": {},
   "outputs": [
    {
     "data": {
      "text/plain": [
       "0     -113.570648\n",
       "1     -207.501694\n",
       "2      -90.722595\n",
       "3     -199.544205\n",
       "4     -160.337708\n",
       "          ...    \n",
       "995   -153.640961\n",
       "996   -142.392029\n",
       "997   -124.952271\n",
       "998   -225.007751\n",
       "999   -235.161972\n",
       "Name: mfcc1_mean, Length: 1000, dtype: float64"
      ]
     },
     "execution_count": 4,
     "metadata": {},
     "output_type": "execute_result"
    }
   ],
   "source": [
    "df['mfcc1_mean']"
   ]
  },
  {
   "cell_type": "code",
   "execution_count": 7,
   "metadata": {},
   "outputs": [
    {
     "data": {
      "text/plain": [
       "(1000, 59)"
      ]
     },
     "execution_count": 7,
     "metadata": {},
     "output_type": "execute_result"
    }
   ],
   "source": [
    "df.shape"
   ]
  },
  {
   "cell_type": "code",
   "execution_count": 9,
   "metadata": {},
   "outputs": [],
   "source": [
    "img = plt.imread('/Users/stephen/Flatiron/Phase4/MIR/Data/images_original/blues/blues00000.png')"
   ]
  },
  {
   "cell_type": "code",
   "execution_count": 14,
   "metadata": {},
   "outputs": [
    {
     "data": {
      "text/plain": [
       "(288, 432, 4)"
      ]
     },
     "execution_count": 14,
     "metadata": {},
     "output_type": "execute_result"
    }
   ],
   "source": [
    "img.shape"
   ]
  },
  {
   "cell_type": "code",
   "execution_count": 33,
   "metadata": {},
   "outputs": [],
   "source": [
    "folder_path = '/Users/stephen/Flatiron/Phase4/MIR/Data/genres_original'\n",
    "files = librosa.util.find_files(folder_path, ext=['wav'], recurse=True)\n",
    "#files = np.asarray(files)\n",
    "\n"
   ]
  },
  {
   "cell_type": "code",
   "execution_count": 52,
   "metadata": {},
   "outputs": [
    {
     "data": {
      "text/plain": [
       "'blues.00000.wav'"
      ]
     },
     "execution_count": 52,
     "metadata": {},
     "output_type": "execute_result"
    }
   ],
   "source": [
    "files[0].split('/')[-1]"
   ]
  },
  {
   "cell_type": "code",
   "execution_count": 54,
   "metadata": {},
   "outputs": [
    {
     "name": "stderr",
     "output_type": "stream",
     "text": [
      "/Users/stephen/opt/anaconda3/envs/torch_env/lib/python3.9/site-packages/librosa/core/audio.py:165: UserWarning: PySoundFile failed. Trying audioread instead.\n",
      "  warnings.warn(\"PySoundFile failed. Trying audioread instead.\")\n"
     ]
    }
   ],
   "source": [
    "wavdict = {}\n",
    "for file in files:\n",
    "    try:\n",
    "        sig, sr = librosa.load(file)\n",
    "        filename = file.split('/')[-1]\n",
    "        wavdict[filename] = (sig, sr)\n",
    "    except:\n",
    "        continue"
   ]
  },
  {
   "cell_type": "code",
   "execution_count": 57,
   "metadata": {},
   "outputs": [
    {
     "data": {
      "text/plain": [
       "999"
      ]
     },
     "execution_count": 57,
     "metadata": {},
     "output_type": "execute_result"
    }
   ],
   "source": [
    "len(wavdict)"
   ]
  },
  {
   "cell_type": "code",
   "execution_count": null,
   "metadata": {},
   "outputs": [],
   "source": []
  }
 ],
 "metadata": {
  "interpreter": {
   "hash": "f3358073929bd3d27ff594bc6528257efc4213b34ba9d7c6bd240dce3a23a83d"
  },
  "kernelspec": {
   "display_name": "Python 3.9.7 64-bit ('torch_env': conda)",
   "language": "python",
   "name": "python3"
  },
  "language_info": {
   "codemirror_mode": {
    "name": "ipython",
    "version": 3
   },
   "file_extension": ".py",
   "mimetype": "text/x-python",
   "name": "python",
   "nbconvert_exporter": "python",
   "pygments_lexer": "ipython3",
   "version": "3.9.7"
  },
  "orig_nbformat": 4
 },
 "nbformat": 4,
 "nbformat_minor": 2
}
