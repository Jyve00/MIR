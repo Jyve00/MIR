{
 "cells": [
  {
   "cell_type": "code",
   "execution_count": 2,
   "metadata": {},
   "outputs": [],
   "source": [
    "#### https://www.kaggle.com/dikshabhati2002/let-s-classify-audio-ml-dl\n",
    "\n",
    "import matplotlib.pyplot as plt\n",
    "import librosa\n",
    "import librosa.display\n",
    "import IPython.display as ipd\n",
    "from scipy.io import wavfile as wav\n",
    "import pandas as pd\n",
    "import math\n",
    "import os\n",
    "import numpy as np\n",
    "import seaborn as sns\n",
    "import json\n",
    "\n",
    "from sklearn.model_selection import train_test_split\n",
    "\n",
    "import tensorflow as tf\n",
    "from tensorflow import keras\n",
    "\n",
    "import tensorflow.keras as keras\n",
    "from tensorflow.keras import optimizers\n",
    "from tensorflow.keras import Sequential\n",
    "from tensorflow.keras.layers import *"
   ]
  },
  {
   "cell_type": "code",
   "execution_count": 3,
   "metadata": {},
   "outputs": [],
   "source": [
    "sample_rate = 22050\n",
    "sr = 22050     # sample rate. based on Nyquist frequency, we only care about frequencies up to 10kHz therefor the sample rate will only perserve those frequencies \n",
    "n_fft = 2048\n",
    "hop_length = 512\n",
    "duration = 30 # length of song to be used (in seconds) \n",
    "n_mels=128\n",
    "samples_per_track = sr * duration\n",
    "n_mfcc = 40\n",
    "\n",
    "json_path = r\"data.rec.json\""
   ]
  },
  {
   "cell_type": "code",
   "execution_count": 4,
   "metadata": {},
   "outputs": [
    {
     "name": "stdout",
     "output_type": "stream",
     "text": [
      "['pop', '.DS_Store', 'metal', 'disco', 'blues', 'reggae', 'classical', 'rock', '.gitattributes', 'hiphop', 'country', 'jazz']\n"
     ]
    }
   ],
   "source": [
    "# set a path pointing to folder with data\n",
    "filepath = '/Users/stephen/Flatiron/Phase4/MIR/Data/genres_original'\n",
    "# folders contain different genres (classes), lets list all the genres\n",
    "print(list(os.listdir(f'{filepath}/')))"
   ]
  },
  {
   "cell_type": "code",
   "execution_count": 5,
   "metadata": {},
   "outputs": [],
   "source": [
    "def save_rec_matrix(dataset_path, json_path, n_mfcc=n_mfcc, n_fft=n_fft,\n",
    "             hop_length=hop_length, num_segments=5):\n",
    "    # Data storage dictionary\n",
    "    data = {\n",
    "        \"mapping\": [],\n",
    "        \"rec_matrix\": [],\n",
    "        \"labels\": [],\n",
    "    }\n",
    "    samples_ps = int(samples_per_track/num_segments) # ps = per segment\n",
    "    expected_vects_ps = math.ceil(samples_ps/hop_length)\n",
    "    \n",
    "    # loop through all the genres\n",
    "    for i, (dirpath, dirnames, filenames) in enumerate(os.walk(dataset_path)):\n",
    "        # ensuring not at root\n",
    "        if dirpath is not dataset_path:\n",
    "            # save the semantic label\n",
    "            dirpath_comp = dirpath.split(\"/\")\n",
    "            semantic_label = dirpath_comp[-1]\n",
    "            data[\"mapping\"].append(semantic_label)\n",
    "            print(f\"Processing: {semantic_label}\")\n",
    "            \n",
    "            # process files for specific genre\n",
    "            for f in filenames:\n",
    "                if(f==str(\"jazz.00054.wav\")):\n",
    "                    # As librosa only read files <1Mb\n",
    "                    continue\n",
    "                else:\n",
    "                    # load audio file\n",
    "                    file_path = os.path.join(dirpath, f)\n",
    "                    signal,sr = librosa.load(file_path,sr=sample_rate)\n",
    "                    for s in range(num_segments):\n",
    "                        start_sample = samples_ps * s\n",
    "                        finish_sample = start_sample + samples_ps\n",
    "\n",
    "                        chroma = librosa.feature.chroma_cqt(signal[start_sample:finish_sample],\n",
    "                                                    sr = sr,\n",
    "                                                    hop_length = hop_length)\n",
    "                        chroma_stack = librosa.feature.stack_memory(chroma, n_steps=10, delay=3)\n",
    "                        R = librosa.segment.recurrence_matrix(chroma_stack)\n",
    "\n",
    "\n",
    "                        R = R.T\n",
    "\n",
    "                        # store mfcc if it has expected length \n",
    "                        if len(R)==expected_vects_ps:\n",
    "                            data[\"rec_matrix\"].append(R.tolist())\n",
    "                            data[\"labels\"].append(i-1)\n",
    "                            #print(f\"{file_path}, segment: {s+1}\")\n",
    "\n",
    "    with open(json_path,\"w\") as f:\n",
    "        json.dump(data,f,indent=4)\n",
    "     "
   ]
  },
  {
   "cell_type": "code",
   "execution_count": 6,
   "metadata": {},
   "outputs": [
    {
     "name": "stdout",
     "output_type": "stream",
     "text": [
      "Processing: pop\n",
      "Processing: metal\n",
      "Processing: disco\n",
      "Processing: blues\n",
      "Processing: reggae\n",
      "Processing: classical\n",
      "Processing: rock\n",
      "Processing: hiphop\n"
     ]
    },
    {
     "name": "stderr",
     "output_type": "stream",
     "text": [
      "/Users/stephen/opt/anaconda3/envs/torch_env/lib/python3.9/site-packages/librosa/core/spectrum.py:222: UserWarning: n_fft=1024 is too small for input signal of length=1011\n",
      "  warnings.warn(\n"
     ]
    },
    {
     "name": "stdout",
     "output_type": "stream",
     "text": [
      "Processing: country\n",
      "Processing: jazz\n"
     ]
    }
   ],
   "source": [
    "save_rec_matrix(filepath,json_path,num_segments=10)\n",
    "#clear_output()"
   ]
  },
  {
   "cell_type": "code",
   "execution_count": 7,
   "metadata": {},
   "outputs": [],
   "source": [
    "# loading in the data \n",
    "def load_data(filepath):\n",
    "    with open(filepath, 'r') as f:\n",
    "        data = json.load(f)\n",
    "\n",
    "    # convert list to numpy arrays\n",
    "    inputs = np.array(data[\"rec_matrix\"])\n",
    "    targets = np.array(data['labels'])\n",
    "\n",
    "    return inputs, targets "
   ]
  },
  {
   "cell_type": "code",
   "execution_count": 8,
   "metadata": {},
   "outputs": [
    {
     "data": {
      "text/plain": [
       "(9986, 130, 130)"
      ]
     },
     "execution_count": 8,
     "metadata": {},
     "output_type": "execute_result"
    }
   ],
   "source": [
    "# set up variables \n",
    "inputs, targets = load_data(r'/Users/stephen/Flatiron/Phase4/MIR/notebooks/stephen/data.rec.json')\n",
    "inputs.shape"
   ]
  },
  {
   "cell_type": "code",
   "execution_count": 9,
   "metadata": {},
   "outputs": [
    {
     "name": "stdout",
     "output_type": "stream",
     "text": [
      "(6990, 130, 130) (6990,)\n"
     ]
    }
   ],
   "source": [
    "# splitting the data \n",
    "# input_train, input_test, target_train, target_test\n",
    "X_train, X_test, y_train, y_test = train_test_split(inputs, targets, test_size=0.3)\n",
    "print(X_train.shape, y_train.shape)"
   ]
  },
  {
   "cell_type": "code",
   "execution_count": 10,
   "metadata": {},
   "outputs": [],
   "source": [
    "# CNN\n",
    "\n",
    "def prepare_dataset(test_size, validation_size):\n",
    "    X,y = load_data(r\"/Users/stephen/Flatiron/Phase4/MIR/notebooks/stephen/data.rec.json\")\n",
    "    \n",
    "    X_train, X_test, y_train, y_test = train_test_split(X, y, test_size = test_size)\n",
    "    X_train, X_val, y_train, y_val = train_test_split(X_train, y_train, test_size = validation_size)\n",
    "    X_train = X_train[..., np.newaxis]\n",
    "    X_val = X_val[..., np.newaxis]\n",
    "    X_test = X_test[..., np.newaxis]\n",
    "\n",
    "    return X_train, X_val, X_test, y_train, y_val, y_test"
   ]
  },
  {
   "cell_type": "code",
   "execution_count": 11,
   "metadata": {},
   "outputs": [],
   "source": [
    "X_train, X_val, X_test, y_train, y_val, y_test = prepare_dataset(0.25, 0.2)"
   ]
  },
  {
   "cell_type": "code",
   "execution_count": 12,
   "metadata": {},
   "outputs": [
    {
     "name": "stdout",
     "output_type": "stream",
     "text": [
      "(130, 130, 1)\n"
     ]
    }
   ],
   "source": [
    "input_shape = (X_train.shape[1],X_train.shape[2],X_train.shape[3])\n",
    "print(input_shape)"
   ]
  },
  {
   "cell_type": "code",
   "execution_count": 13,
   "metadata": {},
   "outputs": [
    {
     "name": "stdout",
     "output_type": "stream",
     "text": [
      "Model: \"sequential\"\n",
      "_________________________________________________________________\n",
      " Layer (type)                Output Shape              Param #   \n",
      "=================================================================\n",
      " conv2d (Conv2D)             (None, 128, 128, 64)      640       \n",
      "                                                                 \n",
      " max_pooling2d (MaxPooling2D  (None, 64, 64, 64)       0         \n",
      " )                                                               \n",
      "                                                                 \n",
      " batch_normalization (BatchN  (None, 64, 64, 64)       256       \n",
      " ormalization)                                                   \n",
      "                                                                 \n",
      " conv2d_1 (Conv2D)           (None, 62, 62, 32)        18464     \n",
      "                                                                 \n",
      " max_pooling2d_1 (MaxPooling  (None, 31, 31, 32)       0         \n",
      " 2D)                                                             \n",
      "                                                                 \n",
      " batch_normalization_1 (Batc  (None, 31, 31, 32)       128       \n",
      " hNormalization)                                                 \n",
      "                                                                 \n",
      " conv2d_2 (Conv2D)           (None, 30, 30, 32)        4128      \n",
      "                                                                 \n",
      " max_pooling2d_2 (MaxPooling  (None, 15, 15, 32)       0         \n",
      " 2D)                                                             \n",
      "                                                                 \n",
      " batch_normalization_2 (Batc  (None, 15, 15, 32)       128       \n",
      " hNormalization)                                                 \n",
      "                                                                 \n",
      " conv2d_3 (Conv2D)           (None, 15, 15, 16)        528       \n",
      "                                                                 \n",
      " max_pooling2d_3 (MaxPooling  (None, 8, 8, 16)         0         \n",
      " 2D)                                                             \n",
      "                                                                 \n",
      " batch_normalization_3 (Batc  (None, 8, 8, 16)         64        \n",
      " hNormalization)                                                 \n",
      "                                                                 \n",
      " flatten (Flatten)           (None, 1024)              0         \n",
      "                                                                 \n",
      " dense (Dense)               (None, 64)                65600     \n",
      "                                                                 \n",
      " dropout (Dropout)           (None, 64)                0         \n",
      "                                                                 \n",
      " dense_1 (Dense)             (None, 10)                650       \n",
      "                                                                 \n",
      "=================================================================\n",
      "Total params: 90,586\n",
      "Trainable params: 90,298\n",
      "Non-trainable params: 288\n",
      "_________________________________________________________________\n"
     ]
    },
    {
     "name": "stderr",
     "output_type": "stream",
     "text": [
      "2021-11-18 22:17:02.160268: I tensorflow/core/platform/cpu_feature_guard.cc:151] This TensorFlow binary is optimized with oneAPI Deep Neural Network Library (oneDNN) to use the following CPU instructions in performance-critical operations:  AVX2 FMA\n",
      "To enable them in other operations, rebuild TensorFlow with the appropriate compiler flags.\n"
     ]
    }
   ],
   "source": [
    "model = Sequential()\n",
    "model.add(Conv2D(64, (3, 3), activation = \"relu\", input_shape = input_shape))\n",
    "model.add(MaxPool2D((3, 3), strides=(2, 2), padding=\"same\"))\n",
    "model.add(BatchNormalization())\n",
    "\n",
    "model.add(Conv2D(32, (3, 3), activation = \"relu\"))\n",
    "model.add(MaxPool2D((3, 3), strides=(2, 2), padding=\"same\"))\n",
    "model.add(BatchNormalization())\n",
    "\n",
    "model.add(Conv2D(32, (2, 2), activation = \"relu\"))\n",
    "model.add(MaxPool2D((2, 2), strides=(2, 2), padding=\"same\"))\n",
    "model.add(BatchNormalization())\n",
    "\n",
    "model.add(Conv2D(16, (1, 1), activation = \"relu\"))\n",
    "model.add(MaxPool2D((1, 1), strides=(2, 2), padding=\"same\"))\n",
    "model.add(BatchNormalization())\n",
    "\n",
    "model.add(Flatten())\n",
    "model.add(Dense(64, activation=\"relu\"))\n",
    "model.add(Dropout(0.3))\n",
    "model.add(Dense(10, activation=\"softmax\"))\n",
    "\n",
    "model.summary()"
   ]
  },
  {
   "cell_type": "code",
   "execution_count": 14,
   "metadata": {},
   "outputs": [],
   "source": [
    "adam = optimizers.Adam(learning_rate=1e-4)"
   ]
  },
  {
   "cell_type": "code",
   "execution_count": 15,
   "metadata": {},
   "outputs": [
    {
     "name": "stdout",
     "output_type": "stream",
     "text": [
      "Epoch 1/40\n",
      "188/188 [==============================] - 83s 440ms/step - loss: 2.5326 - accuracy: 0.1153 - val_loss: 2.3996 - val_accuracy: 0.0908\n",
      "Epoch 2/40\n",
      "188/188 [==============================] - 84s 449ms/step - loss: 2.2823 - accuracy: 0.1466 - val_loss: 2.4328 - val_accuracy: 0.0915\n",
      "Epoch 3/40\n",
      "188/188 [==============================] - 82s 435ms/step - loss: 2.2198 - accuracy: 0.1698 - val_loss: 2.2770 - val_accuracy: 0.1475\n",
      "Epoch 4/40\n",
      "188/188 [==============================] - 83s 439ms/step - loss: 2.1740 - accuracy: 0.1988 - val_loss: 2.1974 - val_accuracy: 0.1983\n",
      "Epoch 5/40\n",
      "188/188 [==============================] - 83s 440ms/step - loss: 2.1313 - accuracy: 0.2173 - val_loss: 2.1840 - val_accuracy: 0.2096\n",
      "Epoch 6/40\n",
      "188/188 [==============================] - 80s 423ms/step - loss: 2.0850 - accuracy: 0.2399 - val_loss: 2.1713 - val_accuracy: 0.2196\n",
      "Epoch 7/40\n",
      "188/188 [==============================] - 77s 412ms/step - loss: 2.0413 - accuracy: 0.2604 - val_loss: 2.1557 - val_accuracy: 0.2170\n",
      "Epoch 8/40\n",
      "188/188 [==============================] - 77s 410ms/step - loss: 2.0026 - accuracy: 0.2834 - val_loss: 2.1585 - val_accuracy: 0.2330\n",
      "Epoch 9/40\n",
      "188/188 [==============================] - 77s 412ms/step - loss: 1.9648 - accuracy: 0.2891 - val_loss: 2.1451 - val_accuracy: 0.2230\n",
      "Epoch 10/40\n",
      "188/188 [==============================] - 81s 430ms/step - loss: 1.9248 - accuracy: 0.3156 - val_loss: 2.1462 - val_accuracy: 0.2236\n",
      "Epoch 11/40\n",
      "188/188 [==============================] - 77s 410ms/step - loss: 1.8782 - accuracy: 0.3315 - val_loss: 2.1419 - val_accuracy: 0.2256\n",
      "Epoch 12/40\n",
      "188/188 [==============================] - 77s 410ms/step - loss: 1.8369 - accuracy: 0.3515 - val_loss: 2.1340 - val_accuracy: 0.2316\n",
      "Epoch 13/40\n",
      "188/188 [==============================] - 81s 431ms/step - loss: 1.8017 - accuracy: 0.3672 - val_loss: 2.1341 - val_accuracy: 0.2330\n",
      "Epoch 14/40\n",
      "188/188 [==============================] - 78s 412ms/step - loss: 1.7519 - accuracy: 0.3844 - val_loss: 2.1363 - val_accuracy: 0.2343\n",
      "Epoch 15/40\n",
      "188/188 [==============================] - 78s 413ms/step - loss: 1.7075 - accuracy: 0.4073 - val_loss: 2.1344 - val_accuracy: 0.2336\n",
      "Epoch 16/40\n",
      "188/188 [==============================] - 80s 424ms/step - loss: 1.6764 - accuracy: 0.4193 - val_loss: 2.1476 - val_accuracy: 0.2343\n",
      "Epoch 17/40\n",
      "188/188 [==============================] - 74s 395ms/step - loss: 1.6275 - accuracy: 0.4343 - val_loss: 2.1440 - val_accuracy: 0.2383\n",
      "Epoch 18/40\n",
      "188/188 [==============================] - 74s 393ms/step - loss: 1.5997 - accuracy: 0.4478 - val_loss: 2.1428 - val_accuracy: 0.2343\n",
      "Epoch 19/40\n",
      "188/188 [==============================] - 73s 390ms/step - loss: 1.5636 - accuracy: 0.4599 - val_loss: 2.1495 - val_accuracy: 0.2383\n",
      "Epoch 20/40\n",
      "188/188 [==============================] - 74s 392ms/step - loss: 1.5240 - accuracy: 0.4747 - val_loss: 2.1730 - val_accuracy: 0.2350\n",
      "Epoch 21/40\n",
      "188/188 [==============================] - 73s 391ms/step - loss: 1.4820 - accuracy: 0.4987 - val_loss: 2.1676 - val_accuracy: 0.2443\n",
      "Epoch 22/40\n",
      "188/188 [==============================] - 74s 394ms/step - loss: 1.4474 - accuracy: 0.5078 - val_loss: 2.1698 - val_accuracy: 0.2397\n",
      "Epoch 23/40\n",
      "188/188 [==============================] - 73s 388ms/step - loss: 1.4257 - accuracy: 0.5143 - val_loss: 2.1698 - val_accuracy: 0.2457\n",
      "Epoch 24/40\n",
      "188/188 [==============================] - 74s 394ms/step - loss: 1.3882 - accuracy: 0.5296 - val_loss: 2.1792 - val_accuracy: 0.2430\n",
      "Epoch 25/40\n",
      "188/188 [==============================] - 77s 408ms/step - loss: 1.3369 - accuracy: 0.5578 - val_loss: 2.2012 - val_accuracy: 0.2397\n",
      "Epoch 26/40\n",
      "188/188 [==============================] - 74s 396ms/step - loss: 1.3106 - accuracy: 0.5593 - val_loss: 2.1975 - val_accuracy: 0.2557\n",
      "Epoch 27/40\n",
      "188/188 [==============================] - 73s 387ms/step - loss: 1.2791 - accuracy: 0.5689 - val_loss: 2.2062 - val_accuracy: 0.2403\n",
      "Epoch 28/40\n",
      "188/188 [==============================] - 75s 397ms/step - loss: 1.2500 - accuracy: 0.5805 - val_loss: 2.2413 - val_accuracy: 0.2443\n",
      "Epoch 29/40\n",
      "188/188 [==============================] - 74s 392ms/step - loss: 1.2056 - accuracy: 0.6082 - val_loss: 2.2304 - val_accuracy: 0.2603\n",
      "Epoch 30/40\n",
      "188/188 [==============================] - 74s 391ms/step - loss: 1.1778 - accuracy: 0.6084 - val_loss: 2.2310 - val_accuracy: 0.2523\n",
      "Epoch 31/40\n",
      "188/188 [==============================] - 74s 391ms/step - loss: 1.1594 - accuracy: 0.6183 - val_loss: 2.2882 - val_accuracy: 0.2390\n",
      "Epoch 32/40\n",
      "188/188 [==============================] - 74s 395ms/step - loss: 1.1228 - accuracy: 0.6346 - val_loss: 2.2890 - val_accuracy: 0.2550\n",
      "Epoch 33/40\n",
      "188/188 [==============================] - 74s 395ms/step - loss: 1.1066 - accuracy: 0.6299 - val_loss: 2.2833 - val_accuracy: 0.2510\n",
      "Epoch 34/40\n",
      "188/188 [==============================] - 75s 396ms/step - loss: 1.0573 - accuracy: 0.6541 - val_loss: 2.3112 - val_accuracy: 0.2477\n",
      "Epoch 35/40\n",
      "188/188 [==============================] - 73s 389ms/step - loss: 1.0348 - accuracy: 0.6645 - val_loss: 2.3321 - val_accuracy: 0.2583\n",
      "Epoch 36/40\n",
      "188/188 [==============================] - 74s 392ms/step - loss: 1.0246 - accuracy: 0.6593 - val_loss: 2.3548 - val_accuracy: 0.2463\n",
      "Epoch 37/40\n",
      "188/188 [==============================] - 73s 390ms/step - loss: 0.9741 - accuracy: 0.6870 - val_loss: 2.3684 - val_accuracy: 0.2530\n",
      "Epoch 38/40\n",
      "188/188 [==============================] - 74s 391ms/step - loss: 0.9492 - accuracy: 0.6917 - val_loss: 2.4154 - val_accuracy: 0.2490\n",
      "Epoch 39/40\n",
      "188/188 [==============================] - 73s 389ms/step - loss: 0.9388 - accuracy: 0.6934 - val_loss: 2.4133 - val_accuracy: 0.2457\n",
      "Epoch 40/40\n",
      "188/188 [==============================] - 74s 393ms/step - loss: 0.8962 - accuracy: 0.7132 - val_loss: 2.4482 - val_accuracy: 0.2630\n"
     ]
    }
   ],
   "source": [
    "model.compile(optimizer=adam,\n",
    "              loss=\"sparse_categorical_crossentropy\",\n",
    "              metrics=[\"accuracy\"])\n",
    "\n",
    "hist = model.fit(X_train, y_train,\n",
    "                 validation_data = (X_val, y_val),\n",
    "                 epochs = 40,\n",
    "                 batch_size = 32)\n"
   ]
  },
  {
   "cell_type": "code",
   "execution_count": 16,
   "metadata": {},
   "outputs": [],
   "source": [
    "def plot_history(hist):\n",
    "    plt.figure(figsize=(20,15))\n",
    "    fig, axs = plt.subplots(2)\n",
    "    # accuracy subplot\n",
    "    axs[0].plot(hist.history[\"accuracy\"], label=\"train accuracy\")\n",
    "    axs[0].plot(hist.history[\"val_accuracy\"], label=\"test accuracy\")    \n",
    "    axs[0].set_ylabel(\"Accuracy\")\n",
    "    axs[0].legend(loc=\"lower right\")\n",
    "    axs[0].set_title(\"Accuracy eval\")\n",
    "    \n",
    "    # Error subplot\n",
    "    axs[1].plot(hist.history[\"loss\"], label=\"train error\")\n",
    "    axs[1].plot(hist.history[\"val_loss\"], label=\"test error\")    \n",
    "    axs[1].set_ylabel(\"Error\")\n",
    "    axs[1].set_xlabel(\"Epoch\")\n",
    "    axs[1].legend(loc=\"upper right\")\n",
    "    axs[1].set_title(\"Error eval\")\n",
    "    \n",
    "    plt.show()"
   ]
  },
  {
   "cell_type": "code",
   "execution_count": 17,
   "metadata": {},
   "outputs": [
    {
     "data": {
      "text/plain": [
       "<Figure size 1440x1080 with 0 Axes>"
      ]
     },
     "metadata": {},
     "output_type": "display_data"
    },
    {
     "data": {
      "image/png": "[encoded data removed]",
      "text/plain": [
       "<Figure size 432x288 with 2 Axes>"
      ]
     },
     "metadata": {
      "needs_background": "light"
     },
     "output_type": "display_data"
    }
   ],
   "source": [
    "plot_history(hist)"
   ]
  },
  {
   "cell_type": "code",
   "execution_count": 18,
   "metadata": {},
   "outputs": [
    {
     "name": "stdout",
     "output_type": "stream",
     "text": [
      "79/79 [==============================] - 9s 112ms/step - loss: 2.4363 - accuracy: 0.2571\n",
      "Test accuracy: 0.25710853934288025\n"
     ]
    }
   ],
   "source": [
    "test_error, test_accuracy = model.evaluate(X_test, y_test, verbose=1)\n",
    "print(f\"Test accuracy: {test_accuracy}\")"
   ]
  },
  {
   "cell_type": "code",
   "execution_count": 19,
   "metadata": {},
   "outputs": [],
   "source": [
    "def predict(model, X, y):\n",
    "    X = X[np.newaxis,...]\n",
    "    prediction = model.predict(X)\n",
    "    predicted_index = np.argmax(prediction, axis=1)\n",
    "    print(f\"Expected index: {y}, Predicted index: {predicted_index}\")"
   ]
  },
  {
   "cell_type": "code",
   "execution_count": 20,
   "metadata": {},
   "outputs": [
    {
     "name": "stdout",
     "output_type": "stream",
     "text": [
      "Expected index: 2, Predicted index: [2]\n"
     ]
    }
   ],
   "source": [
    "predict(model, X_test[10], y_test[10])"
   ]
  },
  {
   "cell_type": "code",
   "execution_count": null,
   "metadata": {},
   "outputs": [],
   "source": []
  }
 ],
 "metadata": {
  "interpreter": {
   "hash": "f3358073929bd3d27ff594bc6528257efc4213b34ba9d7c6bd240dce3a23a83d"
  },
  "kernelspec": {
   "display_name": "Python 3.9.7 64-bit ('torch_env': conda)",
   "language": "python",
   "name": "python3"
  },
  "language_info": {
   "codemirror_mode": {
    "name": "ipython",
    "version": 3
   },
   "file_extension": ".py",
   "mimetype": "text/x-python",
   "name": "python",
   "nbconvert_exporter": "python",
   "pygments_lexer": "ipython3",
   "version": "3.9.7"
  },
  "orig_nbformat": 4
 },
 "nbformat": 4,
 "nbformat_minor": 2
}
