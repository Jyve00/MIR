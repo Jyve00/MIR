{
 "cells": [
  {
   "cell_type": "code",
   "execution_count": 32,
   "metadata": {},
   "outputs": [],
   "source": [
    "\n",
    "import numpy as np\n",
    "import pandas as pd\n",
    "import scipy\n",
    "import librosa\n",
    "import librosa.display\n",
    "import random\n",
    "import matplotlib.pyplot as plt\n",
    "import sklearn\n",
    "\n",
    "import os\n",
    "from tqdm import tqdm\n",
    "from matplotlib import cm, colors, pyplot as plt\n",
    "from matplotlib.colors import ListedColormap\n",
    "\n",
    "import IPython \n",
    "from IPython.display import display\n",
    "\n",
    "\n",
    "import tensorflow as tf\n",
    "import tensorflow.python.keras as k\n",
    "\n",
    "from tensorflow import keras\n",
    "from tensorflow.keras import layers\n",
    "\n",
    "from keras.wrappers.scikit_learn import KerasClassifier\n",
    "\n",
    "from sklearn.model_selection import train_test_split\n",
    "from sklearn.preprocessing import minmax_scale\n",
    "from sklearn.metrics import accuracy_score\n",
    "from sklearn.preprocessing import LabelEncoder\n",
    "from sklearn.preprocessing import StandardScaler\n",
    "\n",
    "\n",
    "# https://www.kaggle.com/annashtangey/music-genre-classification-coeff-experiment-94-4"
   ]
  },
  {
   "cell_type": "code",
   "execution_count": 33,
   "metadata": {},
   "outputs": [],
   "source": [
    "sr = 22050 \n",
    "sample_rate = sr    # sample rate. based on Nyquist frequency, we only care about frequencies up to 10kHz therefor the sample rate will only perserve those frequencies \n",
    "n_fft = 2048\n",
    "hop_length = 512\n",
    "duration = 29 # length of song to be used (in seconds) \n",
    "n_mels=128\n",
    "seed = 42\n",
    "random.seed = seed\n",
    "np.random.seed(seed)"
   ]
  },
  {
   "cell_type": "code",
   "execution_count": 34,
   "metadata": {},
   "outputs": [
    {
     "data": {
      "text/html": [
       "<div>\n",
       "<style scoped>\n",
       "    .dataframe tbody tr th:only-of-type {\n",
       "        vertical-align: middle;\n",
       "    }\n",
       "\n",
       "    .dataframe tbody tr th {\n",
       "        vertical-align: top;\n",
       "    }\n",
       "\n",
       "    .dataframe thead th {\n",
       "        text-align: right;\n",
       "    }\n",
       "</style>\n",
       "<table border=\"1\" class=\"dataframe\">\n",
       "  <thead>\n",
       "    <tr style=\"text-align: right;\">\n",
       "      <th></th>\n",
       "      <th>filename</th>\n",
       "      <th>label</th>\n",
       "      <th>file_path</th>\n",
       "    </tr>\n",
       "  </thead>\n",
       "  <tbody>\n",
       "    <tr>\n",
       "      <th>0</th>\n",
       "      <td>blues.00000.wav</td>\n",
       "      <td>blues</td>\n",
       "      <td>/Users/stephen/Flatiron/Phase4/MIR/Data/genres...</td>\n",
       "    </tr>\n",
       "    <tr>\n",
       "      <th>1</th>\n",
       "      <td>blues.00001.wav</td>\n",
       "      <td>blues</td>\n",
       "      <td>/Users/stephen/Flatiron/Phase4/MIR/Data/genres...</td>\n",
       "    </tr>\n",
       "    <tr>\n",
       "      <th>2</th>\n",
       "      <td>blues.00002.wav</td>\n",
       "      <td>blues</td>\n",
       "      <td>/Users/stephen/Flatiron/Phase4/MIR/Data/genres...</td>\n",
       "    </tr>\n",
       "    <tr>\n",
       "      <th>3</th>\n",
       "      <td>blues.00003.wav</td>\n",
       "      <td>blues</td>\n",
       "      <td>/Users/stephen/Flatiron/Phase4/MIR/Data/genres...</td>\n",
       "    </tr>\n",
       "    <tr>\n",
       "      <th>4</th>\n",
       "      <td>blues.00004.wav</td>\n",
       "      <td>blues</td>\n",
       "      <td>/Users/stephen/Flatiron/Phase4/MIR/Data/genres...</td>\n",
       "    </tr>\n",
       "  </tbody>\n",
       "</table>\n",
       "</div>"
      ],
      "text/plain": [
       "          filename  label                                          file_path\n",
       "0  blues.00000.wav  blues  /Users/stephen/Flatiron/Phase4/MIR/Data/genres...\n",
       "1  blues.00001.wav  blues  /Users/stephen/Flatiron/Phase4/MIR/Data/genres...\n",
       "2  blues.00002.wav  blues  /Users/stephen/Flatiron/Phase4/MIR/Data/genres...\n",
       "3  blues.00003.wav  blues  /Users/stephen/Flatiron/Phase4/MIR/Data/genres...\n",
       "4  blues.00004.wav  blues  /Users/stephen/Flatiron/Phase4/MIR/Data/genres..."
      ]
     },
     "execution_count": 34,
     "metadata": {},
     "output_type": "execute_result"
    }
   ],
   "source": [
    "# load metadata csv\n",
    "df = pd.read_csv('/Users/stephen/Flatiron/Phase4/MIR/Data/features_30_sec.csv')\n",
    "df = df[['filename', 'label']]\n",
    "\n",
    "# relative path to the directory of audio file genre subfolders\n",
    "rel_path = '/Users/stephen/Flatiron/Phase4/MIR/Data/genres_original'\n",
    "\n",
    "# create relative path to each audio file\n",
    "df['file_path'] = rel_path + df['label'] + '/' + df['filename']\n",
    "\n",
    "# drop 'filename' column\n",
    "#df = df.drop(columns='filename')\n",
    "df.head()"
   ]
  },
  {
   "cell_type": "code",
   "execution_count": 35,
   "metadata": {},
   "outputs": [
    {
     "name": "stdout",
     "output_type": "stream",
     "text": [
      "<class 'pandas.core.frame.DataFrame'>\n",
      "Int64Index: 999 entries, 0 to 999\n",
      "Data columns (total 3 columns):\n",
      " #   Column     Non-Null Count  Dtype \n",
      "---  ------     --------------  ----- \n",
      " 0   filename   999 non-null    object\n",
      " 1   label      999 non-null    object\n",
      " 2   file_path  999 non-null    object\n",
      "dtypes: object(3)\n",
      "memory usage: 31.2+ KB\n"
     ]
    }
   ],
   "source": [
    "# drop the corrupted song\n",
    "df = df.drop(labels=554)\n",
    "\n",
    "# check\n",
    "df.info()"
   ]
  },
  {
   "cell_type": "code",
   "execution_count": 36,
   "metadata": {},
   "outputs": [],
   "source": [
    "def get_mfcc(filename, sample_rate=sr):\n",
    "    y, sr = librosa.load(\n",
    "        path = filename,  # load in audio file. MP3 not supported refer to Librosa documentation \n",
    "        sr = sample_rate, # by convention the default sample rate is 22050, lower if not enough processing power \n",
    "        mono = True,      # stereo isn't important. \n",
    "        offset = 0.0,     # start reading audio after this time (in seconds)\n",
    "        duration = duration, \n",
    "        res_type = 'kaiser_best'\n",
    "        )\n",
    "\n",
    "    mfcc = librosa.feature.mfcc(y=y, sr=sr, n_mels=n_mels)\n",
    "    return mfcc"
   ]
  },
  {
   "cell_type": "code",
   "execution_count": 44,
   "metadata": {},
   "outputs": [
    {
     "name": "stderr",
     "output_type": "stream",
     "text": [
      "999it [00:35, 27.96it/s]\n"
     ]
    }
   ],
   "source": [
    "audio_dataset_path = '/Users/stephen/Flatiron/Phase4/MIR/Data/genres_original/'\n",
    "\n",
    "\n",
    "mfccs=[]\n",
    "for index_num,row in tqdm(df.iterrows()):\n",
    "    try:\n",
    "        final_class_labels=row[\"label\"]\n",
    "        another_label=row['file_path']\n",
    "        file_name = os.path.join(os.path.abspath(audio_dataset_path), final_class_labels+'/',str(row[\"filename\"]))    \n",
    "        data=get_mfcc(file_name)\n",
    "        mfccs.append([data,final_class_labels,another_label])\n",
    "        \n",
    "    except Exception as e:\n",
    "        print(f\"Error: {e}\")\n",
    "        continue"
   ]
  },
  {
   "cell_type": "code",
   "execution_count": null,
   "metadata": {},
   "outputs": [],
   "source": []
  }
 ],
 "metadata": {
  "interpreter": {
   "hash": "f3358073929bd3d27ff594bc6528257efc4213b34ba9d7c6bd240dce3a23a83d"
  },
  "kernelspec": {
   "display_name": "Python 3.9.7 64-bit ('torch_env': conda)",
   "language": "python",
   "name": "python3"
  },
  "language_info": {
   "codemirror_mode": {
    "name": "ipython",
    "version": 3
   },
   "file_extension": ".py",
   "mimetype": "text/x-python",
   "name": "python",
   "nbconvert_exporter": "python",
   "pygments_lexer": "ipython3",
   "version": "3.9.7"
  },
  "orig_nbformat": 4
 },
 "nbformat": 4,
 "nbformat_minor": 2
}
