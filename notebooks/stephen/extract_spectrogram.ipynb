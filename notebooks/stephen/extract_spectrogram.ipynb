{
 "cells": [
  {
   "cell_type": "markdown",
   "metadata": {},
   "source": [
    "# Extract Mel Spectrograms \n",
    "\n",
    "Use this Notebook to extract Mel Spectrograms from a collection of Audio Files (.wav)\n",
    "Running this Notebook will create a folder in the local directory containing Mel-Spectrograms "
   ]
  },
  {
   "cell_type": "code",
   "execution_count": 6,
   "metadata": {},
   "outputs": [],
   "source": [
    "import numpy as np \n",
    "import pandas as pd\n",
    "import matplotlib.pyplot as plt\n",
    "%matplotlib inline\n",
    "import librosa\n",
    "import librosa.display\n",
    "import pathlib\n",
    "import os\n",
    "from PIL import Image"
   ]
  },
  {
   "cell_type": "code",
   "execution_count": null,
   "metadata": {},
   "outputs": [],
   "source": [
    "# Global Variables \n",
    "sr = 22050 \n",
    "sample_rate = sr    # sample rate. based on Nyquist frequency, we only care about frequencies up to 10kHz therefor the sample rate will only perserve those frequencies \n",
    "n_fft = 2048\n",
    "hop_length = 512\n",
    "duration = 29 # length of song to be used (in seconds) \n",
    "n_mels=128"
   ]
  },
  {
   "cell_type": "code",
   "execution_count": null,
   "metadata": {},
   "outputs": [],
   "source": [
    "## https://www.kdnuggets.com/2020/02/audio-data-analysis-deep-learning-python-part-2.html\n",
    "\n",
    "genres = 'blues classical country disco hiphop jazz metal pop reggae rock'.split()\n",
    "\n",
    "#for g in genres: \n",
    "    #pathlib.Path(f'img_data/{g}').mkdir(parents=True, exist_ok=True)\n",
    "    #for filename  in os.listdir(f'/Users/stephen/Flatiron/Phase4/MIR/Data/genres_original/{g}'):\n",
    "        #songname = f'/Users/stephen/Flatiron/Phase4/MIR/Data/genres_original/{g}/{filename}'\n",
    "        #y, sr = librosa.load(songname, duration=10)\n",
    "        #M = librosa.feature.melspectrogram(y=y, sr=sr)\n",
    "        #M_db = librosa.power_to_db(M, ref=np.max)\n",
    "        #print(y.shape)\n",
    "        #plt.specgram(M_db, NFFT=2048, Fs=2, Fc=0, noverlap=128, sides='default', mode='default', scale='dB');\n",
    "        #plt.axis('off');\n",
    "        #plt.savefig(f'img_data/{g}/{filename[:-3].replace(\".\", \"\")}.png')\n",
    "        #plt.clf()"
   ]
  },
  {
   "cell_type": "code",
   "execution_count": null,
   "metadata": {},
   "outputs": [],
   "source": [
    "genres = 'blues classical country disco hiphop jazz metal pop reggae rock'.split()\n",
    "for g in genres: \n",
    "    pathlib.Path(f'img_data/{g}').mkdir(parents=True, exist_ok=True)\n",
    "    for filename  in os.listdir(f'/Users/stephen/Flatiron/Phase4/MIR/Data/genres_original/{g}'):\n",
    "        songname = f'/Users/stephen/Flatiron/Phase4/MIR/Data/genres_original/{g}/{filename}'\n",
    "        y, sr = librosa.load(songname, duration=10)\n",
    "        fig, ax = plt.subplots()\n",
    "        M = librosa.feature.melspectrogram(y=y, sr=sr)\n",
    "        M_db = librosa.power_to_db(M, ref=np.max)\n",
    "        img = librosa.display.specshow(M_db, y_axis='mel', x_axis='time', ax=ax, hop_length=hop_length)\n",
    "        #ax.set(title='Mel spectrogram display')\n",
    "        #fig.colorbar(img, ax=ax, format=\"%+2.f dB\")\n",
    "        plt.axis('off');\n",
    "        plt.savefig(f'img_data/{g}/{filename[:-3].replace(\".\", \"\")}.png')\n",
    "        plt.clf()\n",
    "\n",
    "\n"
   ]
  },
  {
   "cell_type": "code",
   "execution_count": null,
   "metadata": {},
   "outputs": [],
   "source": []
  }
 ],
 "metadata": {
  "interpreter": {
   "hash": "f3358073929bd3d27ff594bc6528257efc4213b34ba9d7c6bd240dce3a23a83d"
  },
  "kernelspec": {
   "display_name": "Python 3.9.7 64-bit ('torch_env': conda)",
   "language": "python",
   "name": "python3"
  },
  "language_info": {
   "codemirror_mode": {
    "name": "ipython",
    "version": 3
   },
   "file_extension": ".py",
   "mimetype": "text/x-python",
   "name": "python",
   "nbconvert_exporter": "python",
   "pygments_lexer": "ipython3",
   "version": "3.9.7"
  },
  "orig_nbformat": 4
 },
 "nbformat": 4,
 "nbformat_minor": 2
}
