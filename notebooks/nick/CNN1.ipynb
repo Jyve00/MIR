{
 "cells": [
  {
   "cell_type": "markdown",
   "metadata": {},
   "source": [
    "# Build CNN"
   ]
  },
  {
   "cell_type": "code",
   "execution_count": 33,
   "metadata": {},
   "outputs": [],
   "source": [
    "# imports\n",
    "import numpy as np\n",
    "import pandas as pd\n",
    "import matplotlib.pyplot as plt\n",
    "import IPython.display as ipd\n",
    "\n",
    "from sklearn.model_selection import train_test_split\n",
    "from sklearn.preprocessing import LabelEncoder\n",
    "from sklearn.preprocessing import scale\n",
    "\n",
    "from tensorflow import keras, random\n",
    "from tensorflow.keras import layers\n",
    "\n",
    "# for working with audio data\n",
    "import librosa, librosa.display"
   ]
  },
  {
   "cell_type": "code",
   "execution_count": 2,
   "metadata": {},
   "outputs": [],
   "source": [
    "def visualize_training_results(history):\n",
    "    '''\n",
    "    From https://machinelearningmastery.com/display-deep-learning-model-training-history-in-keras/\n",
    "    \n",
    "    Input: keras history object (output from trained model)\n",
    "    '''\n",
    "    fig, (ax1, ax2) = plt.subplots(2, sharex=True)\n",
    "    fig.suptitle('Model Results')\n",
    "\n",
    "    # summarize history for accuracy\n",
    "    ax1.plot(history.history['accuracy'])\n",
    "    ax1.plot(history.history['val_accuracy'])\n",
    "    ax1.set_ylabel('Accuracy')\n",
    "    ax1.legend(['train', 'test'], loc='upper left')\n",
    "    # summarize history for loss\n",
    "    ax2.plot(history.history['loss'])\n",
    "    ax2.plot(history.history['val_loss'])\n",
    "    ax2.set_ylabel('Loss')\n",
    "    ax2.legend(['train', 'test'], loc='upper left')\n",
    "    \n",
    "    plt.xlabel('Epoch')\n",
    "    plt.show()"
   ]
  },
  {
   "cell_type": "markdown",
   "metadata": {},
   "source": [
    "## Data Preparation"
   ]
  },
  {
   "cell_type": "code",
   "execution_count": 3,
   "metadata": {},
   "outputs": [
    {
     "data": {
      "text/html": [
       "<div>\n",
       "<style scoped>\n",
       "    .dataframe tbody tr th:only-of-type {\n",
       "        vertical-align: middle;\n",
       "    }\n",
       "\n",
       "    .dataframe tbody tr th {\n",
       "        vertical-align: top;\n",
       "    }\n",
       "\n",
       "    .dataframe thead th {\n",
       "        text-align: right;\n",
       "    }\n",
       "</style>\n",
       "<table border=\"1\" class=\"dataframe\">\n",
       "  <thead>\n",
       "    <tr style=\"text-align: right;\">\n",
       "      <th></th>\n",
       "      <th>label</th>\n",
       "      <th>file_path</th>\n",
       "    </tr>\n",
       "  </thead>\n",
       "  <tbody>\n",
       "    <tr>\n",
       "      <th>0</th>\n",
       "      <td>blues</td>\n",
       "      <td>../../Data/genres_original/blues/blues.00000.wav</td>\n",
       "    </tr>\n",
       "    <tr>\n",
       "      <th>1</th>\n",
       "      <td>blues</td>\n",
       "      <td>../../Data/genres_original/blues/blues.00001.wav</td>\n",
       "    </tr>\n",
       "    <tr>\n",
       "      <th>2</th>\n",
       "      <td>blues</td>\n",
       "      <td>../../Data/genres_original/blues/blues.00002.wav</td>\n",
       "    </tr>\n",
       "    <tr>\n",
       "      <th>3</th>\n",
       "      <td>blues</td>\n",
       "      <td>../../Data/genres_original/blues/blues.00003.wav</td>\n",
       "    </tr>\n",
       "    <tr>\n",
       "      <th>4</th>\n",
       "      <td>blues</td>\n",
       "      <td>../../Data/genres_original/blues/blues.00004.wav</td>\n",
       "    </tr>\n",
       "  </tbody>\n",
       "</table>\n",
       "</div>"
      ],
      "text/plain": [
       "   label                                         file_path\n",
       "0  blues  ../../Data/genres_original/blues/blues.00000.wav\n",
       "1  blues  ../../Data/genres_original/blues/blues.00001.wav\n",
       "2  blues  ../../Data/genres_original/blues/blues.00002.wav\n",
       "3  blues  ../../Data/genres_original/blues/blues.00003.wav\n",
       "4  blues  ../../Data/genres_original/blues/blues.00004.wav"
      ]
     },
     "execution_count": 3,
     "metadata": {},
     "output_type": "execute_result"
    }
   ],
   "source": [
    "# load metadata csv\n",
    "df = pd.read_csv('../../Data/features_30_sec.csv')\n",
    "df = df[['filename', 'label']]\n",
    "\n",
    "# relative path to the directory of audio file genre subfolders\n",
    "rel_path = '../../Data/genres_original/'\n",
    "\n",
    "# create relative path to each audio file\n",
    "df['file_path'] = rel_path + df['label'] + '/' + df['filename']\n",
    "\n",
    "# drop 'filename' column\n",
    "df = df.drop(columns='filename')\n",
    "df.head()"
   ]
  },
  {
   "cell_type": "code",
   "execution_count": 4,
   "metadata": {},
   "outputs": [],
   "source": [
    "# this jazz song is corrupted and will be removed\n",
    "# y, sr = librosa.load(df['file_path'][554])"
   ]
  },
  {
   "cell_type": "code",
   "execution_count": 5,
   "metadata": {},
   "outputs": [
    {
     "name": "stdout",
     "output_type": "stream",
     "text": [
      "<class 'pandas.core.frame.DataFrame'>\n",
      "Int64Index: 999 entries, 0 to 999\n",
      "Data columns (total 2 columns):\n",
      " #   Column     Non-Null Count  Dtype \n",
      "---  ------     --------------  ----- \n",
      " 0   label      999 non-null    object\n",
      " 1   file_path  999 non-null    object\n",
      "dtypes: object(2)\n",
      "memory usage: 23.4+ KB\n"
     ]
    }
   ],
   "source": [
    "# drop the corrupted song\n",
    "df = df.drop(labels=554)\n",
    "\n",
    "# check\n",
    "df.info()"
   ]
  },
  {
   "cell_type": "code",
   "execution_count": 6,
   "metadata": {},
   "outputs": [
    {
     "data": {
      "text/plain": [
       "(999, 10)"
      ]
     },
     "execution_count": 6,
     "metadata": {},
     "output_type": "execute_result"
    }
   ],
   "source": [
    "# instantiate, fit, transform multiclass target\n",
    "le = LabelEncoder()\n",
    "y = le.fit_transform(df['label'])\n",
    "\n",
    "# one hot encode multiclass target\n",
    "output_shape = df['label'].nunique()\n",
    "y = keras.utils.to_categorical(y, output_shape)\n",
    "\n",
    "# check shape\n",
    "y.shape"
   ]
  },
  {
   "cell_type": "code",
   "execution_count": 7,
   "metadata": {},
   "outputs": [],
   "source": [
    "# split into a 10% holdout set\n",
    "X_t, X_hold, y_t, y_hold = train_test_split(df['file_path'], y, random_state=42,\n",
    "                                            stratify=y, test_size=0.1)\n",
    "\n",
    "# split into 75% train, 15% test sets\n",
    "X_train, X_test, y_train, y_test = train_test_split(X_t, y_t, random_state=42,\n",
    "                                                    stratify=y_t, test_size=15/90)"
   ]
  },
  {
   "cell_type": "code",
   "execution_count": 8,
   "metadata": {},
   "outputs": [
    {
     "data": {
      "text/plain": [
       "(749, 128, 862, 1)"
      ]
     },
     "execution_count": 8,
     "metadata": {},
     "output_type": "execute_result"
    }
   ],
   "source": [
    "mel_specs = []\n",
    "for sample in X_train:\n",
    "    y, sr = librosa.load(sample, duration=20)\n",
    "    S_dB = librosa.power_to_db(librosa.feature.melspectrogram(y=y, sr=sr), ref=np.min)\n",
    "\n",
    "    # append to the list and create a new axis for concatenation later \n",
    "    # and one for the single amplitude channel\n",
    "    mel_specs.append(S_dB[np.newaxis,..., np.newaxis])\n",
    "\n",
    "# concatenate along the first axis; result should be a 4D tensor of shape \n",
    "# (#samples, #mels, #frames, #channels)\n",
    "X_train_mel = np.concatenate(mel_specs,axis=0)\n",
    "\n",
    "# check shape\n",
    "X_train_mel.shape"
   ]
  },
  {
   "cell_type": "code",
   "execution_count": 9,
   "metadata": {},
   "outputs": [],
   "source": [
    "def get_melsp(X, sample_duration):\n",
    "    features = []\n",
    "    for sample in X:\n",
    "        y, sr = librosa.load(sample, duration=sample_duration)\n",
    "        S_dB = librosa.power_to_db(librosa.feature.melspectrogram(y=y, sr=sr), ref=np.min)\n",
    "\n",
    "        # append to the list and create a new axis for concatenation later and one for the single amplitude channel\n",
    "        features.append(S_dB[np.newaxis,..., np.newaxis])\n",
    "\n",
    "    # concatenate along the first axis; result should be a 4D tensor of shape (#samples, #mels, #frames, #channels)\n",
    "    return np.concatenate(features,axis=0)"
   ]
  },
  {
   "cell_type": "code",
   "execution_count": 10,
   "metadata": {},
   "outputs": [],
   "source": [
    "def get_mfcc(X, sample_duration):\n",
    "    features = []\n",
    "    for sample in X:\n",
    "        y, sr = librosa.load(sample, duration=sample_duration)\n",
    "        mfcc = librosa.feature.mfcc(y=y, sr=sr)\n",
    "\n",
    "        # append to the list and create a new axis for concatenation later and one for the single amplitude channel\n",
    "        features.append(mfcc[np.newaxis,..., np.newaxis])\n",
    "\n",
    "    # concatenate along the first axis; result should be a 4D tensor of shape \n",
    "    # (#samples, #mels, #frames, #channels)\n",
    "    tensor = np.concatenate(features,axis=0)\n",
    "    print(tensor.min(), tensor.max())\n",
    "    tensor_sc = (tensor - tensor.min())/(tensor.max()-tensor.min())\n",
    "    return tensor_sc"
   ]
  },
  {
   "cell_type": "code",
   "execution_count": 11,
   "metadata": {},
   "outputs": [
    {
     "name": "stdout",
     "output_type": "stream",
     "text": [
      "-678.8547 253.68959\n"
     ]
    },
    {
     "data": {
      "text/plain": [
       "(749, 20, 1288, 1)"
      ]
     },
     "execution_count": 11,
     "metadata": {},
     "output_type": "execute_result"
    }
   ],
   "source": [
    "# generate mfcc for train\n",
    "X_train_mfcc = get_mfcc(X_train, 29.9)\n",
    "X_train_mfcc.shape"
   ]
  },
  {
   "cell_type": "code",
   "execution_count": 12,
   "metadata": {},
   "outputs": [
    {
     "data": {
      "text/plain": [
       "<matplotlib.collections.QuadMesh at 0x7fc6265fc790>"
      ]
     },
     "execution_count": 12,
     "metadata": {},
     "output_type": "execute_result"
    },
    {
     "data": {
      "image/png": "[encoded data removed]",
      "text/plain": [
       "<Figure size 432x288 with 1 Axes>"
      ]
     },
     "metadata": {},
     "output_type": "display_data"
    }
   ],
   "source": [
    "librosa.display.specshow(X_train_mfcc[300,:,:,0])"
   ]
  },
  {
   "cell_type": "code",
   "execution_count": 13,
   "metadata": {},
   "outputs": [],
   "source": [
    "# define input shape\n",
    "input_shape = X_train_mfcc.shape[1:]"
   ]
  },
  {
   "cell_type": "code",
   "execution_count": 14,
   "metadata": {},
   "outputs": [
    {
     "name": "stdout",
     "output_type": "stream",
     "text": [
      "-673.7394 264.07275\n"
     ]
    }
   ],
   "source": [
    "# generate mfcc for test\n",
    "X_test_mfcc = get_mfcc(X_test, 29.9)"
   ]
  },
  {
   "cell_type": "markdown",
   "metadata": {},
   "source": [
    "## First Model - Simple Multi-Layer Perceptron"
   ]
  },
  {
   "cell_type": "code",
   "execution_count": 24,
   "metadata": {},
   "outputs": [
    {
     "name": "stdout",
     "output_type": "stream",
     "text": [
      "Model: \"sequential_4\"\n",
      "_________________________________________________________________\n",
      "Layer (type)                 Output Shape              Param #   \n",
      "=================================================================\n",
      "flatten_4 (Flatten)          (None, 25760)             0         \n",
      "_________________________________________________________________\n",
      "dense_16 (Dense)             (None, 1000)              25761000  \n",
      "_________________________________________________________________\n",
      "dense_17 (Dense)             (None, 1000)              1001000   \n",
      "_________________________________________________________________\n",
      "dense_18 (Dense)             (None, 1000)              1001000   \n",
      "_________________________________________________________________\n",
      "dense_19 (Dense)             (None, 10)                10010     \n",
      "=================================================================\n",
      "Total params: 27,773,010\n",
      "Trainable params: 27,773,010\n",
      "Non-trainable params: 0\n",
      "_________________________________________________________________\n"
     ]
    }
   ],
   "source": [
    "simple = keras.Sequential(\n",
    "    [\n",
    "        keras.Input(shape=input_shape),\n",
    "        layers.Flatten(),\n",
    "        layers.Dense(1000, activation='relu'),\n",
    "        layers.Dense(1000, activation='relu'),\n",
    "        layers.Dense(1000, activation='relu'),\n",
    "        layers.Dense(10, activation='softmax')\n",
    "])\n",
    "simple.summary()"
   ]
  },
  {
   "cell_type": "code",
   "execution_count": 25,
   "metadata": {},
   "outputs": [],
   "source": [
    "batch = int(X_train_mfcc.shape[0]/20)\n",
    "epochs = 15\n",
    "\n",
    "# Compiling our model\n",
    "simple.compile(loss=\"categorical_crossentropy\", optimizer=\"adam\", metrics=[\"accuracy\"])"
   ]
  },
  {
   "cell_type": "code",
   "execution_count": 26,
   "metadata": {},
   "outputs": [
    {
     "name": "stdout",
     "output_type": "stream",
     "text": [
      "Epoch 1/15\n",
      "21/21 [==============================] - 5s 238ms/step - loss: 18.6712 - accuracy: 0.0988 - val_loss: 4.2366 - val_accuracy: 0.1000\n",
      "Epoch 2/15\n",
      "21/21 [==============================] - 5s 232ms/step - loss: 2.6980 - accuracy: 0.1041 - val_loss: 2.3626 - val_accuracy: 0.1000\n",
      "Epoch 3/15\n",
      "21/21 [==============================] - 4s 211ms/step - loss: 2.3256 - accuracy: 0.0948 - val_loss: 2.3026 - val_accuracy: 0.1000\n",
      "Epoch 4/15\n",
      "21/21 [==============================] - 5s 226ms/step - loss: 2.3029 - accuracy: 0.1015 - val_loss: 2.3026 - val_accuracy: 0.1000\n",
      "Epoch 5/15\n",
      "21/21 [==============================] - 4s 202ms/step - loss: 2.3029 - accuracy: 0.1001 - val_loss: 2.3026 - val_accuracy: 0.1000\n",
      "Epoch 6/15\n",
      "21/21 [==============================] - 4s 198ms/step - loss: 2.3028 - accuracy: 0.1001 - val_loss: 2.3026 - val_accuracy: 0.1000\n",
      "Epoch 7/15\n",
      "21/21 [==============================] - 4s 214ms/step - loss: 2.3028 - accuracy: 0.0881 - val_loss: 2.3026 - val_accuracy: 0.1000\n",
      "Epoch 8/15\n",
      "21/21 [==============================] - 4s 211ms/step - loss: 2.3027 - accuracy: 0.1001 - val_loss: 2.3026 - val_accuracy: 0.1000\n",
      "Epoch 9/15\n",
      "21/21 [==============================] - 5s 215ms/step - loss: 2.3027 - accuracy: 0.1001 - val_loss: 2.3026 - val_accuracy: 0.1000\n",
      "Epoch 10/15\n",
      "21/21 [==============================] - 5s 224ms/step - loss: 2.3028 - accuracy: 0.1001 - val_loss: 2.3026 - val_accuracy: 0.1000\n",
      "Epoch 11/15\n",
      "21/21 [==============================] - 4s 209ms/step - loss: 2.3028 - accuracy: 0.1001 - val_loss: 2.3026 - val_accuracy: 0.1000\n",
      "Epoch 12/15\n",
      "21/21 [==============================] - 5s 220ms/step - loss: 2.3027 - accuracy: 0.1001 - val_loss: 2.3026 - val_accuracy: 0.1000\n",
      "Epoch 13/15\n",
      "21/21 [==============================] - 4s 210ms/step - loss: 2.3027 - accuracy: 0.1001 - val_loss: 2.3026 - val_accuracy: 0.1000\n",
      "Epoch 14/15\n",
      "21/21 [==============================] - 4s 208ms/step - loss: 2.3028 - accuracy: 0.0814 - val_loss: 2.3026 - val_accuracy: 0.1000\n",
      "Epoch 15/15\n",
      "21/21 [==============================] - 4s 210ms/step - loss: 2.3028 - accuracy: 0.0881 - val_loss: 2.3026 - val_accuracy: 0.1000\n"
     ]
    }
   ],
   "source": [
    "simple_history = simple.fit(X_train_mfcc, \n",
    "                    y_train, \n",
    "                    batch_size=batch,\n",
    "                    epochs=epochs, \n",
    "                    validation_data=(X_test_mfcc, y_test))"
   ]
  },
  {
   "cell_type": "code",
   "execution_count": 27,
   "metadata": {},
   "outputs": [
    {
     "data": {
      "image/png": "[encoded data removed]",
      "text/plain": [
       "<Figure size 432x288 with 2 Axes>"
      ]
     },
     "metadata": {
      "needs_background": "light"
     },
     "output_type": "display_data"
    }
   ],
   "source": [
    "visualize_training_results(simple_history)"
   ]
  },
  {
   "cell_type": "markdown",
   "metadata": {},
   "source": [
    "## CNN"
   ]
  },
  {
   "cell_type": "code",
   "execution_count": 73,
   "metadata": {},
   "outputs": [
    {
     "name": "stdout",
     "output_type": "stream",
     "text": [
      "Model: \"sequential_24\"\n",
      "_________________________________________________________________\n",
      "Layer (type)                 Output Shape              Param #   \n",
      "=================================================================\n",
      "conv2d_76 (Conv2D)           (None, 20, 1288, 32)      512       \n",
      "_________________________________________________________________\n",
      "max_pooling2d_76 (MaxPooling (None, 20, 322, 32)       0         \n",
      "_________________________________________________________________\n",
      "conv2d_77 (Conv2D)           (None, 20, 322, 64)       30784     \n",
      "_________________________________________________________________\n",
      "max_pooling2d_77 (MaxPooling (None, 10, 107, 64)       0         \n",
      "_________________________________________________________________\n",
      "conv2d_78 (Conv2D)           (None, 10, 107, 128)      123008    \n",
      "_________________________________________________________________\n",
      "max_pooling2d_78 (MaxPooling (None, 5, 35, 128)        0         \n",
      "_________________________________________________________________\n",
      "flatten_24 (Flatten)         (None, 22400)             0         \n",
      "_________________________________________________________________\n",
      "dense_64 (Dense)             (None, 128)               2867328   \n",
      "_________________________________________________________________\n",
      "dense_65 (Dense)             (None, 10)                1290      \n",
      "=================================================================\n",
      "Total params: 3,022,922\n",
      "Trainable params: 3,022,922\n",
      "Non-trainable params: 0\n",
      "_________________________________________________________________\n"
     ]
    }
   ],
   "source": [
    "# set random seed for reproducibility\n",
    "np.random.seed(42)\n",
    "random.set_seed(42)\n",
    "\n",
    "# build sequentially\n",
    "cnn = keras.Sequential()\n",
    "\n",
    "# convolutional and max pooling layers with successively more filters\n",
    "cnn.add(layers.Conv2D(32, (3, 5), activation='relu', padding='same', input_shape=input_shape))\n",
    "cnn.add(layers.MaxPooling2D((1, 4)))\n",
    "cnn.add(layers.Conv2D(64, (3, 5), activation='relu', padding='same'))\n",
    "cnn.add(layers.MaxPooling2D((2, 3)))\n",
    "cnn.add(layers.Conv2D(128, (3, 5), activation='relu', padding='same'))\n",
    "cnn.add(layers.MaxPooling2D((2, 3)))\n",
    "# cnn.add(layers.Conv2D(128, (4, 10), activation='relu', padding='same'))\n",
    "# cnn.add(layers.MaxPooling2D((2, 2)))\n",
    "\n",
    "# fully-connected layers for output\n",
    "cnn.add(layers.Flatten())\n",
    "cnn.add(layers.Dense(128, activation='relu')),\n",
    "cnn.add(layers.Dense(10, activation='softmax'))\n",
    "\n",
    "# compile cnn\n",
    "cnn.compile(loss='categorical_crossentropy',\n",
    "            optimizer=\"adam\",\n",
    "            metrics=['accuracy'])\n",
    "\n",
    "# take a look at model architecture\n",
    "cnn.summary()"
   ]
  },
  {
   "cell_type": "code",
   "execution_count": 74,
   "metadata": {},
   "outputs": [
    {
     "name": "stdout",
     "output_type": "stream",
     "text": [
      "Epoch 1/20\n",
      "21/21 [==============================] - 33s 2s/step - loss: 2.3234 - accuracy: 0.0908 - val_loss: 2.2969 - val_accuracy: 0.1933\n",
      "Epoch 2/20\n",
      "21/21 [==============================] - 33s 2s/step - loss: 2.2584 - accuracy: 0.1789 - val_loss: 2.1171 - val_accuracy: 0.1867\n",
      "Epoch 3/20\n",
      "21/21 [==============================] - 32s 2s/step - loss: 2.0721 - accuracy: 0.1883 - val_loss: 1.9900 - val_accuracy: 0.2067\n",
      "Epoch 4/20\n",
      "21/21 [==============================] - 33s 2s/step - loss: 1.9911 - accuracy: 0.2363 - val_loss: 1.9155 - val_accuracy: 0.3400\n",
      "Epoch 5/20\n",
      "21/21 [==============================] - 35s 2s/step - loss: 1.9434 - accuracy: 0.2577 - val_loss: 1.8736 - val_accuracy: 0.3400\n",
      "Epoch 6/20\n",
      "21/21 [==============================] - 33s 2s/step - loss: 1.9036 - accuracy: 0.2991 - val_loss: 1.8941 - val_accuracy: 0.3000\n",
      "Epoch 7/20\n",
      "21/21 [==============================] - 33s 2s/step - loss: 1.8966 - accuracy: 0.3151 - val_loss: 1.9435 - val_accuracy: 0.2667\n",
      "Epoch 8/20\n",
      "21/21 [==============================] - 35s 2s/step - loss: 1.8689 - accuracy: 0.2884 - val_loss: 1.8229 - val_accuracy: 0.3000\n",
      "Epoch 9/20\n",
      "21/21 [==============================] - 33s 2s/step - loss: 1.7763 - accuracy: 0.3405 - val_loss: 1.7471 - val_accuracy: 0.3733\n",
      "Epoch 10/20\n",
      "21/21 [==============================] - 33s 2s/step - loss: 1.7524 - accuracy: 0.3351 - val_loss: 1.7192 - val_accuracy: 0.3267\n",
      "Epoch 11/20\n",
      "21/21 [==============================] - 34s 2s/step - loss: 1.6844 - accuracy: 0.3672 - val_loss: 1.6875 - val_accuracy: 0.3200\n",
      "Epoch 12/20\n",
      "21/21 [==============================] - 34s 2s/step - loss: 1.7302 - accuracy: 0.3525 - val_loss: 1.6756 - val_accuracy: 0.3533\n",
      "Epoch 13/20\n",
      "21/21 [==============================] - 33s 2s/step - loss: 1.6390 - accuracy: 0.3752 - val_loss: 1.6290 - val_accuracy: 0.4000\n",
      "Epoch 14/20\n",
      "21/21 [==============================] - 34s 2s/step - loss: 1.6000 - accuracy: 0.4072 - val_loss: 1.6356 - val_accuracy: 0.4067\n",
      "Epoch 15/20\n",
      "21/21 [==============================] - 33s 2s/step - loss: 1.6297 - accuracy: 0.3752 - val_loss: 1.6201 - val_accuracy: 0.4200\n",
      "Epoch 16/20\n",
      "21/21 [==============================] - 33s 2s/step - loss: 1.6051 - accuracy: 0.3899 - val_loss: 1.6114 - val_accuracy: 0.3800\n",
      "Epoch 17/20\n",
      "21/21 [==============================] - 34s 2s/step - loss: 1.5584 - accuracy: 0.4206 - val_loss: 1.5933 - val_accuracy: 0.3933\n",
      "Epoch 18/20\n",
      "21/21 [==============================] - 33s 2s/step - loss: 1.5139 - accuracy: 0.4326 - val_loss: 1.6330 - val_accuracy: 0.4200\n",
      "Epoch 19/20\n",
      "21/21 [==============================] - 32s 2s/step - loss: 1.4759 - accuracy: 0.4406 - val_loss: 1.5462 - val_accuracy: 0.4667\n",
      "Epoch 20/20\n",
      "21/21 [==============================] - 32s 2s/step - loss: 1.4469 - accuracy: 0.4633 - val_loss: 1.5840 - val_accuracy: 0.4000\n"
     ]
    }
   ],
   "source": [
    "# fit the model\n",
    "history = cnn.fit(X_train_mfcc,\n",
    "                  y_train,\n",
    "                  epochs=20,\n",
    "                  batch_size=batch,\n",
    "                  validation_data=(X_test_mfcc, y_test))"
   ]
  },
  {
   "cell_type": "code",
   "execution_count": 75,
   "metadata": {},
   "outputs": [
    {
     "data": {
      "image/png": "[encoded data removed]",
      "text/plain": [
       "<Figure size 432x288 with 2 Axes>"
      ]
     },
     "metadata": {
      "needs_background": "light"
     },
     "output_type": "display_data"
    }
   ],
   "source": [
    "visualize_training_results(history)"
   ]
  },
  {
   "cell_type": "code",
   "execution_count": null,
   "metadata": {},
   "outputs": [],
   "source": []
  }
 ],
 "metadata": {
  "interpreter": {
   "hash": "f3358073929bd3d27ff594bc6528257efc4213b34ba9d7c6bd240dce3a23a83d"
  },
  "kernelspec": {
   "display_name": "Python 3",
   "language": "python",
   "name": "python3"
  },
  "language_info": {
   "codemirror_mode": {
    "name": "ipython",
    "version": 3
   },
   "file_extension": ".py",
   "mimetype": "text/x-python",
   "name": "python",
   "nbconvert_exporter": "python",
   "pygments_lexer": "ipython3",
   "version": "3.8.5"
  }
 },
 "nbformat": 4,
 "nbformat_minor": 2
}
